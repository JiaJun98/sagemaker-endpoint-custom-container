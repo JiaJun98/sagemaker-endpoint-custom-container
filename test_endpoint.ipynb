{
 "cells": [
  {
   "cell_type": "markdown",
   "metadata": {},
   "source": [
    "## Download test data"
   ]
  },
  {
   "cell_type": "code",
   "execution_count": null,
   "metadata": {},
   "outputs": [],
   "source": [
    "import boto3\n",
    "import json\n",
    "\n",
    "#https://xgboost.readthedocs.io/en/stable/get_started.html\n",
    "from sklearn.datasets import load_iris\n",
    "from sklearn.model_selection import train_test_split\n",
    "\n",
    "sagemaker_runtime = boto3.client('sagemaker-runtime')\n",
    "\n",
    "# Read data\n",
    "data = load_iris()\n",
    "X_train, X_test, y_train, y_test = train_test_split(data['data'], data['target'], test_size=.2)\n",
    "\n",
    "payload = {\"features\": X_test.tolist()}\n",
    "payload = json.dumps(payload)"
   ]
  },
  {
   "cell_type": "markdown",
   "metadata": {},
   "source": [
    "## Invoke endpoint - provisioned\n",
    "The realtime and serverless endpoints are invoked with the same API. Just change the endpoint name to the one you want to use"
   ]
  },
  {
   "cell_type": "code",
   "execution_count": null,
   "metadata": {},
   "outputs": [],
   "source": [
    "ENDPOINT_NAME = 'MY ENDPOINT NAME'"
   ]
  },
  {
   "cell_type": "code",
   "execution_count": null,
   "metadata": {},
   "outputs": [],
   "source": [
    "%%time\n",
    "# Invoke SageMaker endpoint\n",
    "res = sagemaker_runtime.invoke_endpoint(\n",
    "    EndpointName=ENDPOINT_NAME, \n",
    "    ContentType='application/json', \n",
    "    Body=payload \n",
    ")\n",
    "res = res['Body'].read().decode()\n",
    "\n",
    "parsed = json.loads(res)\n",
    "print(parsed['predictions'])"
   ]
  },
  {
   "cell_type": "markdown",
   "metadata": {},
   "source": [
    "## Invoke endpoint - Async\n",
    "To use the async endpoint, we first upload the data to S3 and then invoke the endpoint with that s3 uri"
   ]
  },
  {
   "cell_type": "code",
   "execution_count": null,
   "metadata": {},
   "outputs": [],
   "source": [
    "ASYNC_ENDPOINT_NAME = 'MY ASYNC ENDPOINT NAME'\n",
    "BUCKET = 'mlbucket13' # Replace with your own bucket name\n",
    "KEY = 'iris/payload.json' # Replace with your own key"
   ]
  },
  {
   "cell_type": "code",
   "execution_count": null,
   "metadata": {},
   "outputs": [],
   "source": [
    "s3 = boto3.client('s3')\n",
    "s3_uri = f's3://{BUCKET}/{KEY}'\n",
    "\n",
    "try:\n",
    "    s3.put_object(\n",
    "        Body=payload,\n",
    "        Bucket=BUCKET,\n",
    "        Key=KEY\n",
    "    )\n",
    "    print(f'Uploaded payload to {s3_uri}')\n",
    "except Exception as e:\n",
    "    print(e)\n"
   ]
  },
  {
   "cell_type": "code",
   "execution_count": null,
   "metadata": {},
   "outputs": [],
   "source": [
    "# Invoke async SageMaker endpoint\n",
    "async_response = sagemaker_runtime.invoke_endpoint_async(\n",
    "        EndpointName=ASYNC_ENDPOINT_NAME, \n",
    "        InputLocation=s3_uri,\n",
    "        InvocationTimeoutSeconds=3600,\n",
    "        ContentType='application/json',\n",
    "        )"
   ]
  },
  {
   "cell_type": "code",
   "execution_count": null,
   "metadata": {},
   "outputs": [],
   "source": [
    "# Fetch and parse async inference result from S3\n",
    "from urllib.parse import urlparse\n",
    "\n",
    "output_s3_uri = async_response['OutputLocation']\n",
    "\n",
    "# Parse the S3 URI to extract bucket name and object key\n",
    "parsed_uri = urlparse(output_s3_uri)\n",
    "bucket_name = parsed_uri.netloc\n",
    "object_key = parsed_uri.path.lstrip('/')\n",
    "\n",
    "# Read the object directly into memory\n",
    "response = s3.get_object(Bucket=bucket_name, Key=object_key)\n",
    "data = response['Body'].read().decode()\n",
    "data = json.loads(data)\n",
    "print(data)"
   ]
  },
  {
   "cell_type": "code",
   "execution_count": null,
   "metadata": {},
   "outputs": [],
   "source": []
  }
 ],
 "metadata": {
  "kernelspec": {
   "display_name": "Python 3",
   "language": "python",
   "name": "python3"
  },
  "language_info": {
   "codemirror_mode": {
    "name": "ipython",
    "version": 3
   },
   "file_extension": ".py",
   "mimetype": "text/x-python",
   "name": "python",
   "nbconvert_exporter": "python",
   "pygments_lexer": "ipython3",
   "version": "3.9.6"
  }
 },
 "nbformat": 4,
 "nbformat_minor": 2
}
